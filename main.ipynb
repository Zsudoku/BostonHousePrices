{
 "cells": [
  {
   "cell_type": "code",
   "execution_count": 58,
   "metadata": {},
   "outputs": [],
   "source": [
    "#导包\n",
    "import pandas as pd\n",
    "import numpy as np\n",
    "import json"
   ]
  },
  {
   "cell_type": "code",
   "execution_count": 59,
   "metadata": {},
   "outputs": [],
   "source": [
    "# #读入数据\n",
    "# data = './housing.data'\n",
    "# data = np.fromfile(data,sep=' ')\n",
    "# data.shape #数组维度\n",
    "# data[0].dtype #数据类型"
   ]
  },
  {
   "cell_type": "code",
   "execution_count": 60,
   "metadata": {},
   "outputs": [],
   "source": [
    "# # 读入之后的数据被转化成1维array，其中array的第0-13项是第一条数据，第14-27项是第二条数据，以此类推.... \n",
    "# # 这里对原始数据做reshape，变成N x 14的形式\n",
    "# feature_names = [ 'CRIM', 'ZN', 'INDUS', 'CHAS', 'NOX', 'RM', 'AGE','DIS', \n",
    "#                 'RAD', 'TAX', 'PTRATIO', 'B', 'LSTAT', 'MEDV' ]\n",
    "# feature_num = len(feature_names)\n",
    "# # data = data.reshape([feature_num,data.shape[0] // feature_num])\n",
    "# data = data.reshape([data.shape[0] // feature_num, feature_num])\n",
    "# #data = np.transpose(data)\n",
    "# data.shape"
   ]
  },
  {
   "cell_type": "code",
   "execution_count": 61,
   "metadata": {},
   "outputs": [],
   "source": [
    "# 计算皮尔逊系数\n",
    "# print(np.corrcoef(data))\n",
    "# data = np.corrcoef(data)\n",
    "#绘制热力图\n",
    "# import matplotlib.pyplot as plt\n",
    "# import seaborn as sns\n",
    "# sns.heatmap(data = data,#数据\n",
    "#             cmap = 'YlGnBu',#填充色\n",
    "#             #linewidths = 10,#宽度\n",
    "#             #annot = True,#显示数值\n",
    "#             fmt = '.1e' ,#科学计数法显示\n",
    "#             xticklabels = True,\n",
    "#             yticklabels = True\n",
    "#             )\n",
    "# plt.show()"
   ]
  },
  {
   "cell_type": "code",
   "execution_count": 62,
   "metadata": {},
   "outputs": [],
   "source": [
    "#计算皮尔逊系数\n",
    "# a = pd.Series([1,2,3,4,5,6,7,8,9,10])\n",
    "# b = pd.Series([2,4,1,5,1,3,6,2,7,0])\n",
    "# c = pd.Series([0,3,2,1,4,7,1,9,6,2])\n",
    "# x = np.vstack((a,b,c))\n",
    "# print(x.shape)\n",
    "# r = np.corrcoef(x)\n",
    "# print(r)"
   ]
  },
  {
   "cell_type": "code",
   "execution_count": 63,
   "metadata": {},
   "outputs": [],
   "source": [
    "# # 数据集划分\n",
    "# ratio = 0.8\n",
    "# offset = int(data.shape[0] * ratio)\n",
    "# training_data = data[:offset]\n",
    "# training_data.shape"
   ]
  },
  {
   "cell_type": "code",
   "execution_count": 64,
   "metadata": {},
   "outputs": [],
   "source": [
    "# # 计算train数据集的最大值，最小值，平均值\n",
    "# maximums, minimums, avgs = \\\n",
    "#                     training_data.max(axis=0), \\\n",
    "#                     training_data.min(axis=0), \\\n",
    "#     training_data.sum(axis=0) / training_data.shape[0]\n",
    "# # 对数据进行归一化处理\n",
    "# for i in range(feature_num):\n",
    "#     #print(maximums[i], minimums[i], avgs[i])\n",
    "#     data[:, i] = (data[:, i] - avgs[i]) / (maximums[i] - minimums[i])\n",
    "# data"
   ]
  },
  {
   "cell_type": "code",
   "execution_count": 65,
   "metadata": {},
   "outputs": [],
   "source": [
    "# 数据处理封装成函数\n",
    "def load_data():\n",
    "    # 从文件导入数据\n",
    "    datafile = './housing.data'\n",
    "    data = np.fromfile(datafile, sep=' ')\n",
    "\n",
    "    # 每条数据包括14项，其中前面13项是影响因素，第14项是相应的房屋价格中位数\n",
    "    feature_names = [ 'CRIM', 'ZN', 'INDUS', 'CHAS', 'NOX', 'RM', 'AGE', \\\n",
    "                    'DIS', 'RAD', 'TAX', 'PTRATIO', 'B', 'LSTAT', 'MEDV' ]\n",
    "    feature_num = len(feature_names)\n",
    "\n",
    "    # 将原始数据进行Reshape，变成[N, 14]这样的形状\n",
    "    data = data.reshape([data.shape[0] // feature_num, feature_num])\n",
    "\n",
    "    # 将原数据集拆分成训练集和测试集\n",
    "    # 这里使用80%的数据做训练，20%的数据做测试\n",
    "    # 测试集和训练集必须是没有交集的\n",
    "    ratio = 0.8\n",
    "    offset = int(data.shape[0] * ratio)\n",
    "    training_data = data[:offset]\n",
    "\n",
    "    # 计算训练集的最大值，最小值，平均值\n",
    "    maximums, minimums, avgs = training_data.max(axis=0), training_data.min(axis=0), \\\n",
    "                                training_data.sum(axis=0) / training_data.shape[0]\n",
    "\n",
    "    # 对数据进行归一化处理\n",
    "    for i in range(feature_num):\n",
    "        #print(maximums[i], minimums[i], avgs[i])\n",
    "        data[:, i] = (data[:, i] - avgs[i]) / (maximums[i] - minimums[i])\n",
    "\n",
    "    # 训练集和测试集的划分比例\n",
    "    training_data = data[:offset]\n",
    "    test_data = data[offset:]\n",
    "    return training_data, test_data"
   ]
  },
  {
   "cell_type": "code",
   "execution_count": 66,
   "metadata": {},
   "outputs": [],
   "source": [
    "# 获取数据\n",
    "training_data,test_data = load_data()\n",
    "x = training_data[:,:-1]\n",
    "y = test_data[:,-1:]"
   ]
  },
  {
   "cell_type": "code",
   "execution_count": 67,
   "metadata": {},
   "outputs": [
    {
     "name": "stdout",
     "output_type": "stream",
     "text": [
      "[-0.02146321  0.03767327 -0.28552309 -0.08663366  0.01289726  0.04634817\n",
      "  0.00795597 -0.00765794 -0.25172191 -0.11881188 -0.29002528  0.0519112\n",
      " -0.17590923]\n",
      "[-0.34834983]\n"
     ]
    }
   ],
   "source": [
    "# 查看数据\n",
    "print(x[0])\n",
    "print(y[0])"
   ]
  },
  {
   "cell_type": "markdown",
   "metadata": {},
   "source": [
    "模型设计是深度学习模型关键要素之一，也称为网络结构设计，相当于模型的假设空间，即实现模型“前向计算”（从输入到输出）的过程。\n",
    "\n",
    "如果将输入特征和输出预测值均以向量表示，输入特征xxx有13个分量，yyy有1个分量，那么参数权重的形状（shape）是13×113\\times113×1。假设我们以如下任意数字赋值参数做初始化：\n",
    "\n",
    "w=[0.1,0.2,0.3,0.4,0.5,0.6,0.7,0.8,−0.1,−0.2,−0.3,−0.4,0.0]"
   ]
  },
  {
   "cell_type": "code",
   "execution_count": 68,
   "metadata": {},
   "outputs": [],
   "source": [
    "# # 模型设计\n",
    "# w = [0.1, 0.2, 0.3, 0.4, 0.5, 0.6, 0.7, 0.8, -0.1, -0.2, -0.3, -0.4, 0.0]\n",
    "# w = np.array(w).reshape([13, 1])"
   ]
  },
  {
   "cell_type": "code",
   "execution_count": 69,
   "metadata": {},
   "outputs": [],
   "source": [
    "# # 取出第1条样本数据，观察样本的特征向量与参数向量相乘的结果。\n",
    "# x1=x[0]\n",
    "# t = np.dot(x1, w)\n",
    "# print(t)"
   ]
  },
  {
   "cell_type": "markdown",
   "metadata": {},
   "source": [
    "完整的线性回归公式，还需要初始化偏移量b，同样随意赋初值-0.2。那么，线性回归模型的完整输出是z=t+b，这个从特征和参数计算输出值的过程称为“前向计算”。"
   ]
  },
  {
   "cell_type": "code",
   "execution_count": 70,
   "metadata": {},
   "outputs": [],
   "source": [
    "# b = -0.2\n",
    "# z = t + b\n",
    "# print(z)"
   ]
  },
  {
   "cell_type": "code",
   "execution_count": 71,
   "metadata": {},
   "outputs": [],
   "source": [
    "#将计算预测输出的过程用“类和对象”的方式来描述\n",
    "class Network(object):\n",
    "    def __init__(self, num_of_weights):\n",
    "        # 随机产生w的初始值\n",
    "        # 为了保持程序每次运行结果的一致性，\n",
    "        # 此处设置固定的随机数种子\n",
    "        np.random.seed(0)\n",
    "        self.w = np.random.randn(num_of_weights, 1)\n",
    "        # print(self.w)\n",
    "        self.b = 0.\n",
    "        \n",
    "    def forward(self, x):\n",
    "        z = np.dot(x, self.w) + self.b\n",
    "        return z\n",
    "    \n",
    "    def loss(self, z, y):\n",
    "        error = z - y\n",
    "        cost = error * error\n",
    "        cost = np.mean(cost)\n",
    "        return cost"
   ]
  },
  {
   "cell_type": "code",
   "execution_count": 72,
   "metadata": {},
   "outputs": [
    {
     "name": "stdout",
     "output_type": "stream",
     "text": [
      "[-0.63182506]\n",
      "0.2164162191886279\n"
     ]
    }
   ],
   "source": [
    "# 模型计算\n",
    "net = Network(13)\n",
    "x1 = x[0]\n",
    "y1 = y[0]\n",
    "z = net.forward(x1)\n",
    "print(z)\n",
    "loss = net.loss(z,y)\n",
    "print(loss)"
   ]
  },
  {
   "cell_type": "code",
   "execution_count": null,
   "metadata": {},
   "outputs": [],
   "source": []
  }
 ],
 "metadata": {
  "kernelspec": {
   "display_name": "Python 3.8.1 64-bit",
   "language": "python",
   "name": "python3"
  },
  "language_info": {
   "codemirror_mode": {
    "name": "ipython",
    "version": 3
   },
   "file_extension": ".py",
   "mimetype": "text/x-python",
   "name": "python",
   "nbconvert_exporter": "python",
   "pygments_lexer": "ipython3",
   "version": "3.8.1"
  },
  "orig_nbformat": 4,
  "vscode": {
   "interpreter": {
    "hash": "33d73dfb9d58d1e4c0ed15f266f7c1fd1b5e79268076ebae9c660cb33abbd60e"
   }
  }
 },
 "nbformat": 4,
 "nbformat_minor": 2
}
